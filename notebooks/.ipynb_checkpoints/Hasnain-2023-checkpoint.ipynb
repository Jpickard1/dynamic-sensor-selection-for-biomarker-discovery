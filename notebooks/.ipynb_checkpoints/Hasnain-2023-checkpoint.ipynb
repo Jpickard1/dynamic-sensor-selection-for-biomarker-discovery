{
 "cells": [
  {
   "cell_type": "markdown",
   "id": "7ae4c436-6586-4db0-b809-4b9092a5c680",
   "metadata": {},
   "source": [
    "# Hasnain 2023"
   ]
  },
  {
   "cell_type": "code",
   "execution_count": 1,
   "id": "7b1437ce-4bd5-4929-96f1-c64caf69db53",
   "metadata": {},
   "outputs": [],
   "source": [
    "# Classic python\n",
    "import matplotlib.ticker as ticker\n",
    "import pandas as pd\n",
    "import numpy as np\n",
    "from copy import deepcopy\n",
    "import copy\n",
    "import os\n",
    "import sys\n",
    "from importlib import reload\n",
    "import textwrap\n",
    "import random\n",
    "import pickle\n",
    "\n",
    "from sklearn.metrics import mean_squared_error\n",
    "\n",
    "# Plotting\n",
    "import matplotlib\n",
    "import matplotlib.pyplot as plt\n",
    "import seaborn as sns\n",
    "\n",
    "sys.path.append('/home/jpic/bioObsv/scr')\n",
    "sys.path.append('/home/jpic/bioObsv/')\n",
    "\n",
    "from src import bioObsv\n",
    "from src.dataPrep import *\n",
    "from src.visualization import *\n",
    "from src.estimation import *\n",
    "reload(bioObsv.Model)\n",
    "reload(bioObsv.estimation)\n",
    "\n",
    "from nb_util import *"
   ]
  },
  {
   "cell_type": "markdown",
   "id": "d835f680-9242-4f7d-b1a1-213c029fca55",
   "metadata": {},
   "source": [
    "## Load Data"
   ]
  },
  {
   "cell_type": "code",
   "execution_count": 2,
   "id": "a6a6f572-0ecb-4f9e-baf4-f9cc9b58dfd9",
   "metadata": {},
   "outputs": [
    {
     "name": "stdout",
     "output_type": "stream",
     "text": [
      "hasnain.keys()=dict_keys(['FC', 'genes'])\n",
      "Xtest.shape=(624, 9, 2)\n",
      "numSensors=array([ 10,  20,  30,  40,  50,  60,  70,  80,  90, 100, 110, 120, 130,\n",
      "       140, 150, 160, 170, 180, 190, 200, 210, 220, 230, 240, 250, 260,\n",
      "       270, 280, 290, 300, 310, 320, 330, 340, 350])\n"
     ]
    }
   ],
   "source": [
    "datapath = '/nfs/turbo/umms-indikar/shared/projects/public_data/time_series_RNA/hasnain/data.pkl'\n",
    "with open(datapath, 'rb') as f:\n",
    "    # Load the object from the file\n",
    "    hasnain = pickle.load(f)\n",
    "print(f\"{hasnain.keys()=}\")\n",
    "\n",
    "Xtest = hasnain['FC']\n",
    "print(f\"{Xtest.shape=}\")\n",
    "\n",
    "numSensors  = np.arange(10, 351, 10)\n",
    "print(f\"{numSensors=}\")\n"
   ]
  },
  {
   "cell_type": "markdown",
   "id": "395c4d00-8aa0-435f-816a-48b21e66b1f7",
   "metadata": {},
   "source": [
    "## Perform Biomarker Selection and Estimation"
   ]
  },
  {
   "cell_type": "code",
   "execution_count": 3,
   "id": "ce6aaa59-cec1-4a04-ac91-cfa853ecbffc",
   "metadata": {},
   "outputs": [
    {
     "name": "stdout",
     "output_type": "stream",
     "text": [
      "Fixed\n",
      "(624, 1)\n",
      "(624, 1)\n",
      "(624, 1)\n",
      "(624, 1)\n",
      "(624, 1)\n",
      "(624, 1)\n",
      "(624, 1)\n",
      "(624, 1)\n",
      "(624, 1)\n",
      "(624, 1)\n",
      "10\n",
      "20\n"
     ]
    },
    {
     "name": "stderr",
     "output_type": "stream",
     "text": [
      " /home/jpic/.local/lib/python3.11/site-packages/scipy/sparse/_index.py:103: SparseEfficiencyWarning:Changing the sparsity structure of a csr_matrix is expensive. lil_matrix is more efficient.\n",
      " /home/jpic/.local/lib/python3.11/site-packages/scipy/sparse/_index.py:103: SparseEfficiencyWarning:Changing the sparsity structure of a csr_matrix is expensive. lil_matrix is more efficient.\n"
     ]
    },
    {
     "name": "stdout",
     "output_type": "stream",
     "text": [
      "30\n"
     ]
    },
    {
     "name": "stderr",
     "output_type": "stream",
     "text": [
      " /home/jpic/.local/lib/python3.11/site-packages/scipy/sparse/_index.py:103: SparseEfficiencyWarning:Changing the sparsity structure of a csr_matrix is expensive. lil_matrix is more efficient.\n"
     ]
    },
    {
     "name": "stdout",
     "output_type": "stream",
     "text": [
      "40\n"
     ]
    },
    {
     "name": "stderr",
     "output_type": "stream",
     "text": [
      " /home/jpic/.local/lib/python3.11/site-packages/scipy/sparse/_index.py:103: SparseEfficiencyWarning:Changing the sparsity structure of a csr_matrix is expensive. lil_matrix is more efficient.\n"
     ]
    },
    {
     "name": "stdout",
     "output_type": "stream",
     "text": [
      "50\n"
     ]
    },
    {
     "name": "stderr",
     "output_type": "stream",
     "text": [
      " /home/jpic/.local/lib/python3.11/site-packages/scipy/sparse/_index.py:103: SparseEfficiencyWarning:Changing the sparsity structure of a csr_matrix is expensive. lil_matrix is more efficient.\n"
     ]
    },
    {
     "name": "stdout",
     "output_type": "stream",
     "text": [
      "60\n"
     ]
    },
    {
     "name": "stderr",
     "output_type": "stream",
     "text": [
      " /home/jpic/.local/lib/python3.11/site-packages/scipy/sparse/_index.py:103: SparseEfficiencyWarning:Changing the sparsity structure of a csr_matrix is expensive. lil_matrix is more efficient.\n"
     ]
    },
    {
     "name": "stdout",
     "output_type": "stream",
     "text": [
      "70\n"
     ]
    },
    {
     "name": "stderr",
     "output_type": "stream",
     "text": [
      " /home/jpic/.local/lib/python3.11/site-packages/scipy/sparse/_index.py:103: SparseEfficiencyWarning:Changing the sparsity structure of a csr_matrix is expensive. lil_matrix is more efficient.\n"
     ]
    },
    {
     "name": "stdout",
     "output_type": "stream",
     "text": [
      "80\n"
     ]
    },
    {
     "name": "stderr",
     "output_type": "stream",
     "text": [
      " /home/jpic/.local/lib/python3.11/site-packages/scipy/sparse/_index.py:103: SparseEfficiencyWarning:Changing the sparsity structure of a csr_matrix is expensive. lil_matrix is more efficient.\n"
     ]
    },
    {
     "name": "stdout",
     "output_type": "stream",
     "text": [
      "90\n"
     ]
    },
    {
     "name": "stderr",
     "output_type": "stream",
     "text": [
      " /home/jpic/.local/lib/python3.11/site-packages/scipy/sparse/_index.py:103: SparseEfficiencyWarning:Changing the sparsity structure of a csr_matrix is expensive. lil_matrix is more efficient.\n"
     ]
    },
    {
     "name": "stdout",
     "output_type": "stream",
     "text": [
      "100\n"
     ]
    },
    {
     "name": "stderr",
     "output_type": "stream",
     "text": [
      " /home/jpic/.local/lib/python3.11/site-packages/scipy/sparse/_index.py:103: SparseEfficiencyWarning:Changing the sparsity structure of a csr_matrix is expensive. lil_matrix is more efficient.\n"
     ]
    },
    {
     "name": "stdout",
     "output_type": "stream",
     "text": [
      "110\n"
     ]
    },
    {
     "name": "stderr",
     "output_type": "stream",
     "text": [
      " /home/jpic/.local/lib/python3.11/site-packages/scipy/sparse/_index.py:103: SparseEfficiencyWarning:Changing the sparsity structure of a csr_matrix is expensive. lil_matrix is more efficient.\n"
     ]
    },
    {
     "name": "stdout",
     "output_type": "stream",
     "text": [
      "120\n"
     ]
    },
    {
     "name": "stderr",
     "output_type": "stream",
     "text": [
      " /home/jpic/.local/lib/python3.11/site-packages/scipy/sparse/_index.py:103: SparseEfficiencyWarning:Changing the sparsity structure of a csr_matrix is expensive. lil_matrix is more efficient.\n"
     ]
    },
    {
     "name": "stdout",
     "output_type": "stream",
     "text": [
      "130\n"
     ]
    },
    {
     "name": "stderr",
     "output_type": "stream",
     "text": [
      " /home/jpic/.local/lib/python3.11/site-packages/scipy/sparse/_index.py:103: SparseEfficiencyWarning:Changing the sparsity structure of a csr_matrix is expensive. lil_matrix is more efficient.\n"
     ]
    },
    {
     "name": "stdout",
     "output_type": "stream",
     "text": [
      "140\n"
     ]
    },
    {
     "name": "stderr",
     "output_type": "stream",
     "text": [
      " /home/jpic/.local/lib/python3.11/site-packages/scipy/sparse/_index.py:103: SparseEfficiencyWarning:Changing the sparsity structure of a csr_matrix is expensive. lil_matrix is more efficient.\n"
     ]
    },
    {
     "name": "stdout",
     "output_type": "stream",
     "text": [
      "150\n"
     ]
    },
    {
     "name": "stderr",
     "output_type": "stream",
     "text": [
      " /home/jpic/.local/lib/python3.11/site-packages/scipy/sparse/_index.py:103: SparseEfficiencyWarning:Changing the sparsity structure of a csr_matrix is expensive. lil_matrix is more efficient.\n"
     ]
    },
    {
     "name": "stdout",
     "output_type": "stream",
     "text": [
      "160\n"
     ]
    },
    {
     "name": "stderr",
     "output_type": "stream",
     "text": [
      " /home/jpic/.local/lib/python3.11/site-packages/scipy/sparse/_index.py:103: SparseEfficiencyWarning:Changing the sparsity structure of a csr_matrix is expensive. lil_matrix is more efficient.\n"
     ]
    },
    {
     "name": "stdout",
     "output_type": "stream",
     "text": [
      "170\n"
     ]
    },
    {
     "name": "stderr",
     "output_type": "stream",
     "text": [
      " /home/jpic/.local/lib/python3.11/site-packages/scipy/sparse/_index.py:103: SparseEfficiencyWarning:Changing the sparsity structure of a csr_matrix is expensive. lil_matrix is more efficient.\n"
     ]
    },
    {
     "name": "stdout",
     "output_type": "stream",
     "text": [
      "180\n"
     ]
    },
    {
     "name": "stderr",
     "output_type": "stream",
     "text": [
      " /home/jpic/.local/lib/python3.11/site-packages/scipy/sparse/_index.py:103: SparseEfficiencyWarning:Changing the sparsity structure of a csr_matrix is expensive. lil_matrix is more efficient.\n"
     ]
    },
    {
     "name": "stdout",
     "output_type": "stream",
     "text": [
      "190\n"
     ]
    },
    {
     "name": "stderr",
     "output_type": "stream",
     "text": [
      " /home/jpic/.local/lib/python3.11/site-packages/scipy/sparse/_index.py:103: SparseEfficiencyWarning:Changing the sparsity structure of a csr_matrix is expensive. lil_matrix is more efficient.\n"
     ]
    },
    {
     "name": "stdout",
     "output_type": "stream",
     "text": [
      "200\n"
     ]
    },
    {
     "name": "stderr",
     "output_type": "stream",
     "text": [
      " /home/jpic/.local/lib/python3.11/site-packages/scipy/sparse/_index.py:103: SparseEfficiencyWarning:Changing the sparsity structure of a csr_matrix is expensive. lil_matrix is more efficient.\n"
     ]
    },
    {
     "name": "stdout",
     "output_type": "stream",
     "text": [
      "210\n"
     ]
    },
    {
     "name": "stderr",
     "output_type": "stream",
     "text": [
      " /home/jpic/.local/lib/python3.11/site-packages/scipy/sparse/_index.py:103: SparseEfficiencyWarning:Changing the sparsity structure of a csr_matrix is expensive. lil_matrix is more efficient.\n"
     ]
    },
    {
     "name": "stdout",
     "output_type": "stream",
     "text": [
      "220\n"
     ]
    },
    {
     "name": "stderr",
     "output_type": "stream",
     "text": [
      " /home/jpic/.local/lib/python3.11/site-packages/scipy/sparse/_index.py:103: SparseEfficiencyWarning:Changing the sparsity structure of a csr_matrix is expensive. lil_matrix is more efficient.\n"
     ]
    },
    {
     "name": "stdout",
     "output_type": "stream",
     "text": [
      "230\n"
     ]
    },
    {
     "name": "stderr",
     "output_type": "stream",
     "text": [
      " /home/jpic/.local/lib/python3.11/site-packages/scipy/sparse/_index.py:103: SparseEfficiencyWarning:Changing the sparsity structure of a csr_matrix is expensive. lil_matrix is more efficient.\n"
     ]
    },
    {
     "name": "stdout",
     "output_type": "stream",
     "text": [
      "240\n"
     ]
    },
    {
     "name": "stderr",
     "output_type": "stream",
     "text": [
      " /home/jpic/.local/lib/python3.11/site-packages/scipy/sparse/_index.py:103: SparseEfficiencyWarning:Changing the sparsity structure of a csr_matrix is expensive. lil_matrix is more efficient.\n"
     ]
    },
    {
     "name": "stdout",
     "output_type": "stream",
     "text": [
      "250\n"
     ]
    },
    {
     "name": "stderr",
     "output_type": "stream",
     "text": [
      " /home/jpic/.local/lib/python3.11/site-packages/scipy/sparse/_index.py:103: SparseEfficiencyWarning:Changing the sparsity structure of a csr_matrix is expensive. lil_matrix is more efficient.\n"
     ]
    },
    {
     "name": "stdout",
     "output_type": "stream",
     "text": [
      "260\n"
     ]
    },
    {
     "name": "stderr",
     "output_type": "stream",
     "text": [
      " /home/jpic/.local/lib/python3.11/site-packages/scipy/sparse/_index.py:103: SparseEfficiencyWarning:Changing the sparsity structure of a csr_matrix is expensive. lil_matrix is more efficient.\n"
     ]
    },
    {
     "name": "stdout",
     "output_type": "stream",
     "text": [
      "270\n"
     ]
    },
    {
     "name": "stderr",
     "output_type": "stream",
     "text": [
      " /home/jpic/.local/lib/python3.11/site-packages/scipy/sparse/_index.py:103: SparseEfficiencyWarning:Changing the sparsity structure of a csr_matrix is expensive. lil_matrix is more efficient.\n"
     ]
    },
    {
     "name": "stdout",
     "output_type": "stream",
     "text": [
      "280\n"
     ]
    },
    {
     "name": "stderr",
     "output_type": "stream",
     "text": [
      " /home/jpic/.local/lib/python3.11/site-packages/scipy/sparse/_index.py:103: SparseEfficiencyWarning:Changing the sparsity structure of a csr_matrix is expensive. lil_matrix is more efficient.\n"
     ]
    },
    {
     "name": "stdout",
     "output_type": "stream",
     "text": [
      "290\n"
     ]
    },
    {
     "name": "stderr",
     "output_type": "stream",
     "text": [
      " /home/jpic/.local/lib/python3.11/site-packages/scipy/sparse/_index.py:103: SparseEfficiencyWarning:Changing the sparsity structure of a csr_matrix is expensive. lil_matrix is more efficient.\n"
     ]
    },
    {
     "name": "stdout",
     "output_type": "stream",
     "text": [
      "300\n"
     ]
    },
    {
     "name": "stderr",
     "output_type": "stream",
     "text": [
      " /home/jpic/.local/lib/python3.11/site-packages/scipy/sparse/_index.py:103: SparseEfficiencyWarning:Changing the sparsity structure of a csr_matrix is expensive. lil_matrix is more efficient.\n"
     ]
    },
    {
     "name": "stdout",
     "output_type": "stream",
     "text": [
      "310\n"
     ]
    },
    {
     "name": "stderr",
     "output_type": "stream",
     "text": [
      " /home/jpic/.local/lib/python3.11/site-packages/scipy/sparse/_index.py:103: SparseEfficiencyWarning:Changing the sparsity structure of a csr_matrix is expensive. lil_matrix is more efficient.\n"
     ]
    },
    {
     "name": "stdout",
     "output_type": "stream",
     "text": [
      "320\n"
     ]
    },
    {
     "name": "stderr",
     "output_type": "stream",
     "text": [
      " /home/jpic/.local/lib/python3.11/site-packages/scipy/sparse/_index.py:103: SparseEfficiencyWarning:Changing the sparsity structure of a csr_matrix is expensive. lil_matrix is more efficient.\n"
     ]
    },
    {
     "name": "stdout",
     "output_type": "stream",
     "text": [
      "330\n"
     ]
    },
    {
     "name": "stderr",
     "output_type": "stream",
     "text": [
      " /home/jpic/.local/lib/python3.11/site-packages/scipy/sparse/_index.py:103: SparseEfficiencyWarning:Changing the sparsity structure of a csr_matrix is expensive. lil_matrix is more efficient.\n"
     ]
    },
    {
     "name": "stdout",
     "output_type": "stream",
     "text": [
      "340\n"
     ]
    },
    {
     "name": "stderr",
     "output_type": "stream",
     "text": [
      " /home/jpic/.local/lib/python3.11/site-packages/scipy/sparse/_index.py:103: SparseEfficiencyWarning:Changing the sparsity structure of a csr_matrix is expensive. lil_matrix is more efficient.\n"
     ]
    },
    {
     "name": "stdout",
     "output_type": "stream",
     "text": [
      "350\n"
     ]
    },
    {
     "name": "stderr",
     "output_type": "stream",
     "text": [
      " /home/jpic/.local/lib/python3.11/site-packages/scipy/sparse/_index.py:103: SparseEfficiencyWarning:Changing the sparsity structure of a csr_matrix is expensive. lil_matrix is more efficient.\n"
     ]
    },
    {
     "name": "stdout",
     "output_type": "stream",
     "text": [
      "Dynamic\n",
      "10\n",
      "20\n"
     ]
    },
    {
     "name": "stderr",
     "output_type": "stream",
     "text": [
      " /home/jpic/.local/lib/python3.11/site-packages/scipy/sparse/_index.py:103: SparseEfficiencyWarning:Changing the sparsity structure of a csr_matrix is expensive. lil_matrix is more efficient.\n",
      " /home/jpic/.local/lib/python3.11/site-packages/scipy/sparse/_index.py:103: SparseEfficiencyWarning:Changing the sparsity structure of a csr_matrix is expensive. lil_matrix is more efficient.\n",
      " /home/jpic/.local/lib/python3.11/site-packages/scipy/sparse/_index.py:103: SparseEfficiencyWarning:Changing the sparsity structure of a csr_matrix is expensive. lil_matrix is more efficient.\n",
      " /home/jpic/.local/lib/python3.11/site-packages/scipy/sparse/_index.py:103: SparseEfficiencyWarning:Changing the sparsity structure of a csr_matrix is expensive. lil_matrix is more efficient.\n"
     ]
    },
    {
     "name": "stdout",
     "output_type": "stream",
     "text": [
      "30\n",
      "40\n",
      "50\n",
      "60\n"
     ]
    },
    {
     "name": "stderr",
     "output_type": "stream",
     "text": [
      " /home/jpic/.local/lib/python3.11/site-packages/scipy/sparse/_index.py:103: SparseEfficiencyWarning:Changing the sparsity structure of a csr_matrix is expensive. lil_matrix is more efficient.\n",
      " /home/jpic/.local/lib/python3.11/site-packages/scipy/sparse/_index.py:103: SparseEfficiencyWarning:Changing the sparsity structure of a csr_matrix is expensive. lil_matrix is more efficient.\n"
     ]
    },
    {
     "name": "stdout",
     "output_type": "stream",
     "text": [
      "70\n"
     ]
    },
    {
     "name": "stderr",
     "output_type": "stream",
     "text": [
      " /home/jpic/.local/lib/python3.11/site-packages/scipy/sparse/_index.py:103: SparseEfficiencyWarning:Changing the sparsity structure of a csr_matrix is expensive. lil_matrix is more efficient.\n"
     ]
    },
    {
     "name": "stdout",
     "output_type": "stream",
     "text": [
      "80\n"
     ]
    },
    {
     "name": "stderr",
     "output_type": "stream",
     "text": [
      " /home/jpic/.local/lib/python3.11/site-packages/scipy/sparse/_index.py:103: SparseEfficiencyWarning:Changing the sparsity structure of a csr_matrix is expensive. lil_matrix is more efficient.\n"
     ]
    },
    {
     "name": "stdout",
     "output_type": "stream",
     "text": [
      "90\n"
     ]
    },
    {
     "name": "stderr",
     "output_type": "stream",
     "text": [
      " /home/jpic/.local/lib/python3.11/site-packages/scipy/sparse/_index.py:103: SparseEfficiencyWarning:Changing the sparsity structure of a csr_matrix is expensive. lil_matrix is more efficient.\n"
     ]
    },
    {
     "name": "stdout",
     "output_type": "stream",
     "text": [
      "100\n"
     ]
    },
    {
     "name": "stderr",
     "output_type": "stream",
     "text": [
      " /home/jpic/.local/lib/python3.11/site-packages/scipy/sparse/_index.py:103: SparseEfficiencyWarning:Changing the sparsity structure of a csr_matrix is expensive. lil_matrix is more efficient.\n"
     ]
    },
    {
     "name": "stdout",
     "output_type": "stream",
     "text": [
      "110\n"
     ]
    },
    {
     "name": "stderr",
     "output_type": "stream",
     "text": [
      " /home/jpic/.local/lib/python3.11/site-packages/scipy/sparse/_index.py:103: SparseEfficiencyWarning:Changing the sparsity structure of a csr_matrix is expensive. lil_matrix is more efficient.\n"
     ]
    },
    {
     "name": "stdout",
     "output_type": "stream",
     "text": [
      "120\n"
     ]
    },
    {
     "name": "stderr",
     "output_type": "stream",
     "text": [
      " /home/jpic/.local/lib/python3.11/site-packages/scipy/sparse/_index.py:103: SparseEfficiencyWarning:Changing the sparsity structure of a csr_matrix is expensive. lil_matrix is more efficient.\n"
     ]
    },
    {
     "name": "stdout",
     "output_type": "stream",
     "text": [
      "130\n"
     ]
    },
    {
     "name": "stderr",
     "output_type": "stream",
     "text": [
      " /home/jpic/.local/lib/python3.11/site-packages/scipy/sparse/_index.py:103: SparseEfficiencyWarning:Changing the sparsity structure of a csr_matrix is expensive. lil_matrix is more efficient.\n"
     ]
    },
    {
     "name": "stdout",
     "output_type": "stream",
     "text": [
      "140\n"
     ]
    },
    {
     "name": "stderr",
     "output_type": "stream",
     "text": [
      " /home/jpic/.local/lib/python3.11/site-packages/scipy/sparse/_index.py:103: SparseEfficiencyWarning:Changing the sparsity structure of a csr_matrix is expensive. lil_matrix is more efficient.\n"
     ]
    },
    {
     "name": "stdout",
     "output_type": "stream",
     "text": [
      "150\n"
     ]
    },
    {
     "name": "stderr",
     "output_type": "stream",
     "text": [
      " /home/jpic/.local/lib/python3.11/site-packages/scipy/sparse/_index.py:103: SparseEfficiencyWarning:Changing the sparsity structure of a csr_matrix is expensive. lil_matrix is more efficient.\n"
     ]
    },
    {
     "name": "stdout",
     "output_type": "stream",
     "text": [
      "160\n"
     ]
    },
    {
     "name": "stderr",
     "output_type": "stream",
     "text": [
      " /home/jpic/.local/lib/python3.11/site-packages/scipy/sparse/_index.py:103: SparseEfficiencyWarning:Changing the sparsity structure of a csr_matrix is expensive. lil_matrix is more efficient.\n"
     ]
    },
    {
     "name": "stdout",
     "output_type": "stream",
     "text": [
      "170\n"
     ]
    },
    {
     "name": "stderr",
     "output_type": "stream",
     "text": [
      " /home/jpic/.local/lib/python3.11/site-packages/scipy/sparse/_index.py:103: SparseEfficiencyWarning:Changing the sparsity structure of a csr_matrix is expensive. lil_matrix is more efficient.\n"
     ]
    },
    {
     "name": "stdout",
     "output_type": "stream",
     "text": [
      "180\n"
     ]
    },
    {
     "name": "stderr",
     "output_type": "stream",
     "text": [
      " /home/jpic/.local/lib/python3.11/site-packages/scipy/sparse/_index.py:103: SparseEfficiencyWarning:Changing the sparsity structure of a csr_matrix is expensive. lil_matrix is more efficient.\n"
     ]
    },
    {
     "name": "stdout",
     "output_type": "stream",
     "text": [
      "190\n"
     ]
    },
    {
     "name": "stderr",
     "output_type": "stream",
     "text": [
      " /home/jpic/.local/lib/python3.11/site-packages/scipy/sparse/_index.py:103: SparseEfficiencyWarning:Changing the sparsity structure of a csr_matrix is expensive. lil_matrix is more efficient.\n"
     ]
    },
    {
     "name": "stdout",
     "output_type": "stream",
     "text": [
      "200\n"
     ]
    },
    {
     "name": "stderr",
     "output_type": "stream",
     "text": [
      " /home/jpic/.local/lib/python3.11/site-packages/scipy/sparse/_index.py:103: SparseEfficiencyWarning:Changing the sparsity structure of a csr_matrix is expensive. lil_matrix is more efficient.\n"
     ]
    },
    {
     "name": "stdout",
     "output_type": "stream",
     "text": [
      "210\n"
     ]
    },
    {
     "name": "stderr",
     "output_type": "stream",
     "text": [
      " /home/jpic/.local/lib/python3.11/site-packages/scipy/sparse/_index.py:103: SparseEfficiencyWarning:Changing the sparsity structure of a csr_matrix is expensive. lil_matrix is more efficient.\n"
     ]
    },
    {
     "name": "stdout",
     "output_type": "stream",
     "text": [
      "220\n"
     ]
    },
    {
     "name": "stderr",
     "output_type": "stream",
     "text": [
      " /home/jpic/.local/lib/python3.11/site-packages/scipy/sparse/_index.py:103: SparseEfficiencyWarning:Changing the sparsity structure of a csr_matrix is expensive. lil_matrix is more efficient.\n"
     ]
    },
    {
     "name": "stdout",
     "output_type": "stream",
     "text": [
      "230\n"
     ]
    },
    {
     "name": "stderr",
     "output_type": "stream",
     "text": [
      " /home/jpic/.local/lib/python3.11/site-packages/scipy/sparse/_index.py:103: SparseEfficiencyWarning:Changing the sparsity structure of a csr_matrix is expensive. lil_matrix is more efficient.\n"
     ]
    },
    {
     "name": "stdout",
     "output_type": "stream",
     "text": [
      "240\n"
     ]
    },
    {
     "name": "stderr",
     "output_type": "stream",
     "text": [
      " /home/jpic/.local/lib/python3.11/site-packages/scipy/sparse/_index.py:103: SparseEfficiencyWarning:Changing the sparsity structure of a csr_matrix is expensive. lil_matrix is more efficient.\n"
     ]
    },
    {
     "name": "stdout",
     "output_type": "stream",
     "text": [
      "250\n"
     ]
    },
    {
     "name": "stderr",
     "output_type": "stream",
     "text": [
      " /home/jpic/.local/lib/python3.11/site-packages/scipy/sparse/_index.py:103: SparseEfficiencyWarning:Changing the sparsity structure of a csr_matrix is expensive. lil_matrix is more efficient.\n"
     ]
    },
    {
     "name": "stdout",
     "output_type": "stream",
     "text": [
      "260\n"
     ]
    },
    {
     "name": "stderr",
     "output_type": "stream",
     "text": [
      " /home/jpic/.local/lib/python3.11/site-packages/scipy/sparse/_index.py:103: SparseEfficiencyWarning:Changing the sparsity structure of a csr_matrix is expensive. lil_matrix is more efficient.\n"
     ]
    },
    {
     "name": "stdout",
     "output_type": "stream",
     "text": [
      "270\n"
     ]
    },
    {
     "name": "stderr",
     "output_type": "stream",
     "text": [
      " /home/jpic/.local/lib/python3.11/site-packages/scipy/sparse/_index.py:103: SparseEfficiencyWarning:Changing the sparsity structure of a csr_matrix is expensive. lil_matrix is more efficient.\n"
     ]
    },
    {
     "name": "stdout",
     "output_type": "stream",
     "text": [
      "280\n"
     ]
    },
    {
     "name": "stderr",
     "output_type": "stream",
     "text": [
      " /home/jpic/.local/lib/python3.11/site-packages/scipy/sparse/_index.py:103: SparseEfficiencyWarning:Changing the sparsity structure of a csr_matrix is expensive. lil_matrix is more efficient.\n"
     ]
    },
    {
     "name": "stdout",
     "output_type": "stream",
     "text": [
      "290\n"
     ]
    },
    {
     "name": "stderr",
     "output_type": "stream",
     "text": [
      " /home/jpic/.local/lib/python3.11/site-packages/scipy/sparse/_index.py:103: SparseEfficiencyWarning:Changing the sparsity structure of a csr_matrix is expensive. lil_matrix is more efficient.\n"
     ]
    },
    {
     "name": "stdout",
     "output_type": "stream",
     "text": [
      "300\n"
     ]
    },
    {
     "name": "stderr",
     "output_type": "stream",
     "text": [
      " /home/jpic/.local/lib/python3.11/site-packages/scipy/sparse/_index.py:103: SparseEfficiencyWarning:Changing the sparsity structure of a csr_matrix is expensive. lil_matrix is more efficient.\n"
     ]
    },
    {
     "name": "stdout",
     "output_type": "stream",
     "text": [
      "310\n"
     ]
    },
    {
     "name": "stderr",
     "output_type": "stream",
     "text": [
      " /home/jpic/.local/lib/python3.11/site-packages/scipy/sparse/_index.py:103: SparseEfficiencyWarning:Changing the sparsity structure of a csr_matrix is expensive. lil_matrix is more efficient.\n"
     ]
    },
    {
     "name": "stdout",
     "output_type": "stream",
     "text": [
      "320\n"
     ]
    },
    {
     "name": "stderr",
     "output_type": "stream",
     "text": [
      " /home/jpic/.local/lib/python3.11/site-packages/scipy/sparse/_index.py:103: SparseEfficiencyWarning:Changing the sparsity structure of a csr_matrix is expensive. lil_matrix is more efficient.\n"
     ]
    },
    {
     "name": "stdout",
     "output_type": "stream",
     "text": [
      "330\n"
     ]
    },
    {
     "name": "stderr",
     "output_type": "stream",
     "text": [
      " /home/jpic/.local/lib/python3.11/site-packages/scipy/sparse/_index.py:103: SparseEfficiencyWarning:Changing the sparsity structure of a csr_matrix is expensive. lil_matrix is more efficient.\n"
     ]
    },
    {
     "name": "stdout",
     "output_type": "stream",
     "text": [
      "340\n"
     ]
    },
    {
     "name": "stderr",
     "output_type": "stream",
     "text": [
      " /home/jpic/.local/lib/python3.11/site-packages/scipy/sparse/_index.py:103: SparseEfficiencyWarning:Changing the sparsity structure of a csr_matrix is expensive. lil_matrix is more efficient.\n"
     ]
    },
    {
     "name": "stdout",
     "output_type": "stream",
     "text": [
      "350\n"
     ]
    },
    {
     "name": "stderr",
     "output_type": "stream",
     "text": [
      " /home/jpic/.local/lib/python3.11/site-packages/scipy/sparse/_index.py:103: SparseEfficiencyWarning:Changing the sparsity structure of a csr_matrix is expensive. lil_matrix is more efficient.\n"
     ]
    }
   ],
   "source": [
    "models      = ['Fixed', 'Dynamic']\n",
    "predTimes = [7]\n",
    "res1 = {\n",
    "    'model'     :[],\n",
    "    'numSensors':[],\n",
    "    'method'    :[],\n",
    "    'replicate' :[],\n",
    "    'Norm'      :[],\n",
    "    'MSE'       :[],\n",
    "    'mean % error':[],\n",
    "    'median % error':[]\n",
    "}\n",
    "res2 = {\n",
    "    'state'    :[],\n",
    "    'nSensors' :[],\n",
    "    '% error'  :[],\n",
    "    'method'   :[],\n",
    "    'replicate':[],\n",
    "    'model'     :[]\n",
    "}\n",
    "# DMD v DGC\n",
    "for model in models:\n",
    "    print(model)\n",
    "    Xtest = hasnain['FC']\n",
    "    x0    = Xtest[:,0,:]\n",
    "    # X     = hasnain['FC']\n",
    "    X = np.mean(hasnain['FC'], axis=2)\n",
    "    if model == 'Fixed':\n",
    "        LTV = bioObsv.Model.LinearTimeVariant(data=X, times=[0, 9], dmdRanks=[-1], states=list(np.arange(1,X.shape[0]+1)))\n",
    "        t0, t1 = 0, 9\n",
    "        for t0p in range(t0+1, t1):\n",
    "            LTV.LTI[t0p] = bioObsv.Model.LinearTimeInvariant(states=list(np.arange(1,X.shape[0]+1)))\n",
    "            LTV.LTI[t0p].dmd_res['Atilde'] = LTV.LTI[t0].dmd_res['Atilde']\n",
    "            LTV.LTI[t0p].dmd_res['u_r'] = LTV.LTI[t0].dmd_res['u_r']\n",
    "            LTV.LTI[t0p].f = {}\n",
    "            LTV.LTI[t0p].f['A'] = LTV.LTI[t0].f['A']\n",
    "        # fixed sensor seleciton\n",
    "        sensorEnergySelectionTimes = np.arange(X.shape[1])\n",
    "        TVSensors = bioObsv.sensorSelection.obsvEnergyMaximization(LTV)\n",
    "        organizeEnergySensors = {}\n",
    "        organizeEnergySensors[0] = TVSensors['sensors']['state'].values\n",
    "        sdf = pd.DataFrame(organizeEnergySensors)\n",
    "    else:\n",
    "        LTV = bioObsv.Model.LinearTimeVariant(data=X, times=None, dmdRanks=[-1], states=list(np.arange(1,X.shape[0]+1)))\n",
    "        # dynamic sensor seleciton\n",
    "        sensorEnergySelectionTimes = np.arange(X.shape[1])\n",
    "        TVSensors = bioObsv.sensorSelection.energyMaximizationTV(LTV, sensorEnergySelectionTimes, v=False)\n",
    "        organizeEnergySensors = {}\n",
    "        for i in TVSensors.keys():\n",
    "            organizeEnergySensors[i] = TVSensors[i]['sensors']['state'].values\n",
    "        sdf = pd.DataFrame(organizeEnergySensors)\n",
    "        \n",
    "    # number of sensors\n",
    "    for nSensors in numSensors:\n",
    "        print(nSensors)\n",
    "        sensors = {}\n",
    "        for t in range(len(LTV.LTI)):\n",
    "            if model == 'Dynamic':\n",
    "                sensors[t] = list(sdf.iloc[:nSensors,t].values)\n",
    "            else:\n",
    "                sensors[t] = list(sdf.iloc[:nSensors].values)\n",
    "        LTV.setMeasurments(sensors)\n",
    "        for t in range(len(LTV.LTI)):\n",
    "            LTV.LTI[t].output['C'] = LTV.LTI[t].output['C'].toarray()\n",
    "        O = LTV.obsv(t=predTimes[0]+1, reduced=True)\n",
    "        x0e = leastSquaresX0new(LTV, Xtest, v=False, O=O, times=predTimes)\n",
    "        x0e = x0e[:,predTimes[0],:]\n",
    "        for r in range(x0.shape[1]):\n",
    "            e = np.linalg.norm(x0[:,r] - x0e[:,r])\n",
    "            mse = mean_squared_error(x0[:,r], x0e[:,r])\n",
    "            percent_change = abs((((x0[:,r]+1) - (x0e[:,r]+1)) / (x0[:,r]+1)) * 100)\n",
    "            res1['numSensors'].append(nSensors)\n",
    "            res1['model'].append(model)\n",
    "            res1['method'].append('Energy')\n",
    "            res1['replicate'].append(r)\n",
    "            res1['Norm'].append(e)\n",
    "            res1['MSE'].append(mse)\n",
    "            res1['mean % error'].append(np.mean(percent_change))\n",
    "            res1['median % error'].append(np.median(percent_change))\n",
    "            for i in range(len(percent_change)):\n",
    "                res2['model'].append(model)\n",
    "                res2['state'].append(i)\n",
    "                res2['% error'].append(percent_change[i])\n",
    "                res2['method'].append('Energy')\n",
    "                res2['replicate'].append(r)\n",
    "                res2['nSensors'].append(nSensors)\n",
    "                \n",
    "rdf1 = pd.DataFrame(res1)\n",
    "rdf2 = pd.DataFrame(res2)\n",
    "rdf1.to_csv('/nfs/turbo/umms-indikar/Joshua/obsvArticle/results/hasnain_estimation_fixed_v_dynamic_oct26.csv')\n",
    "rdf2.to_csv('/nfs/turbo/umms-indikar/Joshua/obsvArticle/results/hasnain_estimation_fixed_v_dynamic_oct26.csv')"
   ]
  },
  {
   "cell_type": "markdown",
   "id": "28b4331c-c831-461f-bb2f-245d68723d73",
   "metadata": {},
   "source": [
    "## Load Resulting Data"
   ]
  },
  {
   "cell_type": "raw",
   "id": "8e1d0714-bcb2-4c84-b3fa-324ff5d08b39",
   "metadata": {},
   "source": [
    "rdf1 = pd.DataFrame(res1)\n",
    "rdf2 = pd.DataFrame(res2)\n",
    "rdf1"
   ]
  },
  {
   "cell_type": "code",
   "execution_count": 4,
   "id": "2dfdb08b-92c2-4cfe-baf5-55d65023cc24",
   "metadata": {},
   "outputs": [
    {
     "data": {
      "text/html": [
       "<div>\n",
       "<style scoped>\n",
       "    .dataframe tbody tr th:only-of-type {\n",
       "        vertical-align: middle;\n",
       "    }\n",
       "\n",
       "    .dataframe tbody tr th {\n",
       "        vertical-align: top;\n",
       "    }\n",
       "\n",
       "    .dataframe thead th {\n",
       "        text-align: right;\n",
       "    }\n",
       "</style>\n",
       "<table border=\"1\" class=\"dataframe\">\n",
       "  <thead>\n",
       "    <tr style=\"text-align: right;\">\n",
       "      <th></th>\n",
       "      <th>Unnamed: 0</th>\n",
       "      <th>model</th>\n",
       "      <th>numSensors</th>\n",
       "      <th>method</th>\n",
       "      <th>replicate</th>\n",
       "      <th>Norm</th>\n",
       "      <th>MSE</th>\n",
       "      <th>mean % error</th>\n",
       "      <th>median % error</th>\n",
       "    </tr>\n",
       "  </thead>\n",
       "  <tbody>\n",
       "    <tr>\n",
       "      <th>0</th>\n",
       "      <td>0</td>\n",
       "      <td>Fixed</td>\n",
       "      <td>1</td>\n",
       "      <td>Energy</td>\n",
       "      <td>0</td>\n",
       "      <td>57.269469</td>\n",
       "      <td>5.256077</td>\n",
       "      <td>705.037388</td>\n",
       "      <td>161.733671</td>\n",
       "    </tr>\n",
       "    <tr>\n",
       "      <th>1</th>\n",
       "      <td>1</td>\n",
       "      <td>Fixed</td>\n",
       "      <td>1</td>\n",
       "      <td>Energy</td>\n",
       "      <td>1</td>\n",
       "      <td>33.839012</td>\n",
       "      <td>1.835062</td>\n",
       "      <td>364.585892</td>\n",
       "      <td>77.691202</td>\n",
       "    </tr>\n",
       "    <tr>\n",
       "      <th>2</th>\n",
       "      <td>2</td>\n",
       "      <td>Fixed</td>\n",
       "      <td>11</td>\n",
       "      <td>Energy</td>\n",
       "      <td>0</td>\n",
       "      <td>26.307161</td>\n",
       "      <td>1.109081</td>\n",
       "      <td>232.395271</td>\n",
       "      <td>64.620911</td>\n",
       "    </tr>\n",
       "    <tr>\n",
       "      <th>3</th>\n",
       "      <td>3</td>\n",
       "      <td>Fixed</td>\n",
       "      <td>11</td>\n",
       "      <td>Energy</td>\n",
       "      <td>1</td>\n",
       "      <td>22.487582</td>\n",
       "      <td>0.810403</td>\n",
       "      <td>211.439596</td>\n",
       "      <td>48.762993</td>\n",
       "    </tr>\n",
       "    <tr>\n",
       "      <th>4</th>\n",
       "      <td>4</td>\n",
       "      <td>Fixed</td>\n",
       "      <td>21</td>\n",
       "      <td>Energy</td>\n",
       "      <td>0</td>\n",
       "      <td>23.947894</td>\n",
       "      <td>0.919073</td>\n",
       "      <td>203.747169</td>\n",
       "      <td>61.212215</td>\n",
       "    </tr>\n",
       "    <tr>\n",
       "      <th>...</th>\n",
       "      <td>...</td>\n",
       "      <td>...</td>\n",
       "      <td>...</td>\n",
       "      <td>...</td>\n",
       "      <td>...</td>\n",
       "      <td>...</td>\n",
       "      <td>...</td>\n",
       "      <td>...</td>\n",
       "      <td>...</td>\n",
       "    </tr>\n",
       "    <tr>\n",
       "      <th>247</th>\n",
       "      <td>247</td>\n",
       "      <td>Dynamic</td>\n",
       "      <td>601</td>\n",
       "      <td>Energy</td>\n",
       "      <td>1</td>\n",
       "      <td>19.948771</td>\n",
       "      <td>0.637746</td>\n",
       "      <td>171.914256</td>\n",
       "      <td>51.643309</td>\n",
       "    </tr>\n",
       "    <tr>\n",
       "      <th>248</th>\n",
       "      <td>248</td>\n",
       "      <td>Dynamic</td>\n",
       "      <td>611</td>\n",
       "      <td>Energy</td>\n",
       "      <td>0</td>\n",
       "      <td>19.941741</td>\n",
       "      <td>0.637297</td>\n",
       "      <td>194.453469</td>\n",
       "      <td>48.260261</td>\n",
       "    </tr>\n",
       "    <tr>\n",
       "      <th>249</th>\n",
       "      <td>249</td>\n",
       "      <td>Dynamic</td>\n",
       "      <td>611</td>\n",
       "      <td>Energy</td>\n",
       "      <td>1</td>\n",
       "      <td>19.941741</td>\n",
       "      <td>0.637297</td>\n",
       "      <td>171.891911</td>\n",
       "      <td>51.738956</td>\n",
       "    </tr>\n",
       "    <tr>\n",
       "      <th>250</th>\n",
       "      <td>250</td>\n",
       "      <td>Dynamic</td>\n",
       "      <td>621</td>\n",
       "      <td>Energy</td>\n",
       "      <td>0</td>\n",
       "      <td>19.954023</td>\n",
       "      <td>0.638082</td>\n",
       "      <td>194.343178</td>\n",
       "      <td>48.701135</td>\n",
       "    </tr>\n",
       "    <tr>\n",
       "      <th>251</th>\n",
       "      <td>251</td>\n",
       "      <td>Dynamic</td>\n",
       "      <td>621</td>\n",
       "      <td>Energy</td>\n",
       "      <td>1</td>\n",
       "      <td>19.954023</td>\n",
       "      <td>0.638082</td>\n",
       "      <td>172.056950</td>\n",
       "      <td>51.776439</td>\n",
       "    </tr>\n",
       "  </tbody>\n",
       "</table>\n",
       "<p>252 rows × 9 columns</p>\n",
       "</div>"
      ],
      "text/plain": [
       "     Unnamed: 0    model  numSensors  method  replicate       Norm       MSE  \\\n",
       "0             0    Fixed           1  Energy          0  57.269469  5.256077   \n",
       "1             1    Fixed           1  Energy          1  33.839012  1.835062   \n",
       "2             2    Fixed          11  Energy          0  26.307161  1.109081   \n",
       "3             3    Fixed          11  Energy          1  22.487582  0.810403   \n",
       "4             4    Fixed          21  Energy          0  23.947894  0.919073   \n",
       "..          ...      ...         ...     ...        ...        ...       ...   \n",
       "247         247  Dynamic         601  Energy          1  19.948771  0.637746   \n",
       "248         248  Dynamic         611  Energy          0  19.941741  0.637297   \n",
       "249         249  Dynamic         611  Energy          1  19.941741  0.637297   \n",
       "250         250  Dynamic         621  Energy          0  19.954023  0.638082   \n",
       "251         251  Dynamic         621  Energy          1  19.954023  0.638082   \n",
       "\n",
       "     mean % error  median % error  \n",
       "0      705.037388      161.733671  \n",
       "1      364.585892       77.691202  \n",
       "2      232.395271       64.620911  \n",
       "3      211.439596       48.762993  \n",
       "4      203.747169       61.212215  \n",
       "..            ...             ...  \n",
       "247    171.914256       51.643309  \n",
       "248    194.453469       48.260261  \n",
       "249    171.891911       51.738956  \n",
       "250    194.343178       48.701135  \n",
       "251    172.056950       51.776439  \n",
       "\n",
       "[252 rows x 9 columns]"
      ]
     },
     "execution_count": 4,
     "metadata": {},
     "output_type": "execute_result"
    }
   ],
   "source": [
    "rdf1 = pd.read_csv('/nfs/turbo/umms-indikar/Joshua/obsvArticle/results/hasnain_estimation_fixed_v_dynamic_res1.csv')\n",
    "rdf2 = pd.read_csv('/nfs/turbo/umms-indikar/Joshua/obsvArticle/results/hasnain_estimation_fixed_v_dynamic_res2.csv')\n",
    "rdf1"
   ]
  },
  {
   "cell_type": "markdown",
   "id": "8740db14-b46f-4fa7-a6ed-fb227a8d3e8f",
   "metadata": {},
   "source": [
    "## Visualize"
   ]
  },
  {
   "cell_type": "code",
   "execution_count": 5,
   "id": "da2b351d-0f3b-4e23-b075-15d238d8d6ba",
   "metadata": {},
   "outputs": [
    {
     "data": {
      "image/png": "[encoded data removed]",
      "text/plain": [
       "<Figure size 1800x1200 with 1 Axes>"
      ]
     },
     "metadata": {},
     "output_type": "display_data"
    }
   ],
   "source": [
    "plt.figure(figsize=(6, 4), dpi=300)\n",
    "pdf = rdf1[rdf1['numSensors'] > 1]\n",
    "# Adjust marker size and color palette\n",
    "sns.lineplot(data=pdf,\n",
    "                x='numSensors',\n",
    "                y='median % error',\n",
    "                hue='model',\n",
    "                palette='viridis')\n",
    "plt.xlabel('Number of Sensors', fontsize=12)\n",
    "plt.ylabel('Median % Error', fontsize=12)\n",
    "plt.xticks(fontsize=10)\n",
    "plt.yticks(fontsize=10)\n",
    "plt.legend(title='Model', fontsize=8)\n",
    "# plt.grid(True)\n",
    "plt.gca().yaxis.set_major_locator(ticker.MultipleLocator(5))\n",
    "plt.xlim(11, 350)\n",
    "plt.tight_layout()\n",
    "sns.despine()\n",
    "plt.show()"
   ]
  }
 ],
 "metadata": {
  "kernelspec": {
   "display_name": "Python 3 (ipykernel)",
   "language": "python",
   "name": "python3"
  },
  "language_info": {
   "codemirror_mode": {
    "name": "ipython",
    "version": 3
   },
   "file_extension": ".py",
   "mimetype": "text/x-python",
   "name": "python",
   "nbconvert_exporter": "python",
   "pygments_lexer": "ipython3",
   "version": "3.11.7"
  }
 },
 "nbformat": 4,
 "nbformat_minor": 5
}
